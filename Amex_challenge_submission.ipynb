{
 "cells": [
  {
   "cell_type": "code",
   "execution_count": 1,
   "metadata": {},
   "outputs": [],
   "source": [
    "import pandas as pd\n",
    "train_data_path = \"data/train_AUpWtIz/train.csv\"\n",
    "campaign_data_path = \"data/train_AUpWtIz/campaign_data.csv\"\n",
    "coupon_item_mapping_data_path = \"data/train_AUpWtIz/coupon_item_mapping.csv\"\n",
    "customer_demographics_data_path = \"data/train_AUpWtIz/customer_demographics.csv\"\n",
    "customer_transaction_data_path = \"data/train_AUpWtIz/customer_transaction_data.csv\"\n",
    "item_data_path = \"data/train_AUpWtIz/item_data.csv\"\n",
    "\n",
    "train_df = pd.read_csv(train_data_path)\n",
    "campaign_df = pd.read_csv(campaign_data_path)\n",
    "coupon_item_df = pd.read_csv(coupon_item_mapping_data_path)\n",
    "customer_demo_df = pd.read_csv(customer_demographics_data_path)\n",
    "customer_trans_df = pd.read_csv(customer_transaction_data_path)\n",
    "item_df =  pd.read_csv(item_data_path)"
   ]
  },
  {
   "cell_type": "code",
   "execution_count": 2,
   "metadata": {},
   "outputs": [
    {
     "data": {
      "text/html": [
       "<div>\n",
       "<table border=\"1\" class=\"dataframe\">\n",
       "  <thead>\n",
       "    <tr style=\"text-align: right;\">\n",
       "      <th></th>\n",
       "      <th>id</th>\n",
       "      <th>campaign_id</th>\n",
       "      <th>coupon_id</th>\n",
       "      <th>customer_id</th>\n",
       "      <th>redemption_status</th>\n",
       "    </tr>\n",
       "  </thead>\n",
       "  <tbody>\n",
       "    <tr>\n",
       "      <th>count</th>\n",
       "      <td>78369.000000</td>\n",
       "      <td>78369.000000</td>\n",
       "      <td>78369.000000</td>\n",
       "      <td>78369.000000</td>\n",
       "      <td>78369.000000</td>\n",
       "    </tr>\n",
       "    <tr>\n",
       "      <th>mean</th>\n",
       "      <td>64347.975449</td>\n",
       "      <td>13.974441</td>\n",
       "      <td>566.363243</td>\n",
       "      <td>787.451888</td>\n",
       "      <td>0.009302</td>\n",
       "    </tr>\n",
       "    <tr>\n",
       "      <th>std</th>\n",
       "      <td>37126.440855</td>\n",
       "      <td>8.019215</td>\n",
       "      <td>329.966054</td>\n",
       "      <td>456.811339</td>\n",
       "      <td>0.095999</td>\n",
       "    </tr>\n",
       "    <tr>\n",
       "      <th>min</th>\n",
       "      <td>1.000000</td>\n",
       "      <td>1.000000</td>\n",
       "      <td>1.000000</td>\n",
       "      <td>1.000000</td>\n",
       "      <td>0.000000</td>\n",
       "    </tr>\n",
       "    <tr>\n",
       "      <th>25%</th>\n",
       "      <td>32260.000000</td>\n",
       "      <td>8.000000</td>\n",
       "      <td>280.000000</td>\n",
       "      <td>399.000000</td>\n",
       "      <td>0.000000</td>\n",
       "    </tr>\n",
       "    <tr>\n",
       "      <th>50%</th>\n",
       "      <td>64318.000000</td>\n",
       "      <td>13.000000</td>\n",
       "      <td>597.000000</td>\n",
       "      <td>781.000000</td>\n",
       "      <td>0.000000</td>\n",
       "    </tr>\n",
       "    <tr>\n",
       "      <th>75%</th>\n",
       "      <td>96577.000000</td>\n",
       "      <td>13.000000</td>\n",
       "      <td>857.000000</td>\n",
       "      <td>1190.000000</td>\n",
       "      <td>0.000000</td>\n",
       "    </tr>\n",
       "    <tr>\n",
       "      <th>max</th>\n",
       "      <td>128595.000000</td>\n",
       "      <td>30.000000</td>\n",
       "      <td>1115.000000</td>\n",
       "      <td>1582.000000</td>\n",
       "      <td>1.000000</td>\n",
       "    </tr>\n",
       "  </tbody>\n",
       "</table>\n",
       "</div>"
      ],
      "text/plain": [
       "                  id   campaign_id     coupon_id   customer_id  \\\n",
       "count   78369.000000  78369.000000  78369.000000  78369.000000   \n",
       "mean    64347.975449     13.974441    566.363243    787.451888   \n",
       "std     37126.440855      8.019215    329.966054    456.811339   \n",
       "min         1.000000      1.000000      1.000000      1.000000   \n",
       "25%     32260.000000      8.000000    280.000000    399.000000   \n",
       "50%     64318.000000     13.000000    597.000000    781.000000   \n",
       "75%     96577.000000     13.000000    857.000000   1190.000000   \n",
       "max    128595.000000     30.000000   1115.000000   1582.000000   \n",
       "\n",
       "       redemption_status  \n",
       "count       78369.000000  \n",
       "mean            0.009302  \n",
       "std             0.095999  \n",
       "min             0.000000  \n",
       "25%             0.000000  \n",
       "50%             0.000000  \n",
       "75%             0.000000  \n",
       "max             1.000000  "
      ]
     },
     "execution_count": 2,
     "metadata": {},
     "output_type": "execute_result"
    }
   ],
   "source": [
    "train_df.describe()"
   ]
  },
  {
   "cell_type": "code",
   "execution_count": 3,
   "metadata": {},
   "outputs": [
    {
     "name": "stdout",
     "output_type": "stream",
     "text": [
      "id                   0\n",
      "campaign_id          0\n",
      "coupon_id            0\n",
      "customer_id          0\n",
      "redemption_status    0\n",
      "dtype: int64\n",
      "-------------------------------\n",
      "campaign_id       0\n",
      "campaign_type     0\n",
      "start_date        0\n",
      "end_date          0\n",
      "correction       23\n",
      "dtype: int64\n",
      "-------------------------------\n",
      "coupon_id    0\n",
      "item_id      0\n",
      "dtype: int64\n",
      "-------------------------------\n",
      "customer_id         0\n",
      "age_range           0\n",
      "marital_status    329\n",
      "rented              0\n",
      "family_size         0\n",
      "no_of_children    538\n",
      "income_bracket      0\n",
      "dtype: int64\n",
      "-------------------------------\n",
      "date               0\n",
      "customer_id        0\n",
      "item_id            0\n",
      "quantity           0\n",
      "selling_price      0\n",
      "other_discount     0\n",
      "coupon_discount    0\n",
      "dtype: int64\n",
      "-------------------------------\n",
      "item_id       0\n",
      "brand         0\n",
      "brand_type    0\n",
      "category      0\n",
      "dtype: int64\n",
      "-------------------------------\n"
     ]
    }
   ],
   "source": [
    "print(train_df.isnull().sum())\n",
    "print(\"-------------------------------\")\n",
    "print(campaign_df.isnull().sum())\n",
    "print(\"-------------------------------\")\n",
    "print(coupon_item_df.isnull().sum())\n",
    "print(\"-------------------------------\")\n",
    "print(customer_demo_df.isnull().sum())\n",
    "print(\"-------------------------------\")\n",
    "print(customer_trans_df.isnull().sum())\n",
    "print(\"-------------------------------\")\n",
    "print(item_df.isnull().sum())\n",
    "print(\"-------------------------------\")"
   ]
  },
  {
   "cell_type": "code",
   "execution_count": 4,
   "metadata": {},
   "outputs": [],
   "source": [
    "customer_demo_df = customer_demo_df[['customer_id', 'age_range', 'rented', 'family_size','income_bracket']]"
   ]
  },
  {
   "cell_type": "code",
   "execution_count": 5,
   "metadata": {},
   "outputs": [],
   "source": [
    "#train_df has all the numeric columns\n",
    "import datetime\n",
    "campaign_df_1 = campaign_df.copy()\n",
    "campaign_df_1['start_date'] = campaign_df_1['start_date'].apply(lambda x: datetime.datetime.strptime(x,\"%d/%m/%y\"))\n",
    "campaign_df_1['end_date'] = campaign_df_1['end_date'].apply(lambda x: datetime.datetime.strptime(x,\"%d/%m/%y\"))\n",
    "campaign_df_1['month'] = campaign_df_1['start_date'].dt.month\n"
   ]
  },
  {
   "cell_type": "code",
   "execution_count": 6,
   "metadata": {},
   "outputs": [],
   "source": [
    "#check the campaign dataframe\n",
    "campaign_df.select_dtypes(exclude = [\"number\"])\n",
    "#it gives three col \"campaign_type\" ,\"start_date\",\"end_date\" are not numbers.\n",
    "\n",
    "#USING GETDUMMIES FUNCTION\n",
    "campaign_df_1 = pd.get_dummies(campaign_df_1,columns = ['campaign_type'])\n",
    "#df_with_dummies = pd.get_dummies( df, columns = cols_to_transform )\n",
    "\n",
    "#check the duration and month from the dates.\n",
    "campaign_df_1['total_days'] = campaign_df_1['end_date'].values - campaign_df_1['start_date'].values\n"
   ]
  },
  {
   "cell_type": "code",
   "execution_count": 7,
   "metadata": {},
   "outputs": [],
   "source": [
    "#Desired columns from campaign_df csv = ['month',campaign_type_X,campaign_type_Y,total_days]\n",
    "campaign_data_df = campaign_df_1.loc[:,[\"campaign_id\",'month','campaign_type_X','campaign_type_Y','total_days']]\n",
    "campaign_data_df['total_days'] = campaign_data_df['total_days'].dt.days\n",
    "campaign_data_df.to_csv(\"campaign_data_df.csv\")"
   ]
  },
  {
   "cell_type": "code",
   "execution_count": 8,
   "metadata": {},
   "outputs": [],
   "source": [
    "#lets numalarise   coupon_item_mapping_data_path csv \n",
    "\n",
    "#nothing is there to convert."
   ]
  },
  {
   "cell_type": "code",
   "execution_count": 9,
   "metadata": {},
   "outputs": [],
   "source": [
    "#lets numalarise customer_demographics_data_path csv\n",
    "customer_demo_df_1 = customer_demo_df.copy()\n",
    "list1 = ['customer_id', 'age_range', 'rented', 'family_size', 'income_bracket']\n",
    "list2 = ['age_range','rented','income_bracket']\n",
    "#rented is categorical \n",
    "#age range is categorical\n",
    "#income_bracket is categorical data \n",
    "#convert them to categorical variable.\n",
    "customer_demo_df_1 = pd.get_dummies(customer_demo_df_1, columns = list2)\n",
    "customer_demo_df_1.to_csv('customer_demo_df_1.csv')"
   ]
  },
  {
   "cell_type": "code",
   "execution_count": 10,
   "metadata": {},
   "outputs": [],
   "source": [
    "#lets move to customer_transaction_data_path\n",
    "customer_transaction_data_path = \"data/train_AUpWtIz/customer_transaction_data.csv\"\n",
    "customer_trans_df = pd.read_csv(customer_transaction_data_path)\n",
    "#nothing to change here."
   ]
  },
  {
   "cell_type": "code",
   "execution_count": 11,
   "metadata": {},
   "outputs": [],
   "source": [
    "#the last one is item_data_path\n",
    "item_data_path = \"data/train_AUpWtIz/item_data.csv\"\n",
    "item_df =  pd.read_csv(item_data_path)\n",
    "item_df_1 = item_df.loc[:,['item_id', 'brand_type', 'category']]\n",
    "list3 = ['brand_type', 'category']\n",
    "#convert above list to categorical variables.\n",
    "item_df_1 = pd.get_dummies(item_df_1, columns = list3)\n",
    "item_df_1.to_csv(\"item_df_1.csv\")"
   ]
  },
  {
   "cell_type": "code",
   "execution_count": 2,
   "metadata": {},
   "outputs": [
    {
     "data": {
      "text/plain": [
       "Index(['Unnamed: 0', 'customer_id', 'family_size', 'age_range_18-25',\n",
       "       'age_range_26-35', 'age_range_36-45', 'age_range_46-55',\n",
       "       'age_range_56-70', 'age_range_70+', 'rented_0', 'rented_1',\n",
       "       'income_bracket_1', 'income_bracket_2', 'income_bracket_3',\n",
       "       'income_bracket_4', 'income_bracket_5', 'income_bracket_6',\n",
       "       'income_bracket_7', 'income_bracket_8', 'income_bracket_9',\n",
       "       'income_bracket_10', 'income_bracket_11', 'income_bracket_12', 'date',\n",
       "       'item_id', 'quantity', 'selling_price', 'other_discount',\n",
       "       'coupon_discount'],\n",
       "      dtype='object')"
      ]
     },
     "execution_count": 2,
     "metadata": {},
     "output_type": "execute_result"
    }
   ],
   "source": [
    "# lets group them together customer_demo_df and customer_trans_df\n",
    "#combine train and campaign type.\n",
    "#two dataframes are -\n",
    "import pandas as pd\n",
    "demogra_df = pd.read_csv('customer_demo_df_1.csv')\n",
    "c_trans_df = pd.read_csv('customer_transaction_data.csv')\n",
    "df1 = pd.merge(demogra_df, c_trans_df, how = 'inner', on = 'customer_id')\n",
    "df1.columns\n"
   ]
  },
  {
   "cell_type": "code",
   "execution_count": 3,
   "metadata": {},
   "outputs": [
    {
     "data": {
      "text/plain": [
       "Index(['id', 'campaign_id', 'coupon_id', 'customer_id', 'redemption_status',\n",
       "       'Unnamed: 0', 'month', 'campaign_type_X', 'campaign_type_Y',\n",
       "       'total_days'],\n",
       "      dtype='object')"
      ]
     },
     "execution_count": 3,
     "metadata": {},
     "output_type": "execute_result"
    }
   ],
   "source": [
    "#lets merge train data and campaign data\n",
    "t_df = pd.read_csv('train.csv')\n",
    "c_df = pd.read_csv('campaign_data_df.csv')\n",
    "df2 = pd.merge(t_df, c_df, how = 'inner', on = 'campaign_id')\n",
    "df2.columns\n",
    "@decorater\n"
   ]
  },
  {
   "cell_type": "code",
   "execution_count": null,
   "metadata": {},
   "outputs": [],
   "source": [
    "#lets combine df1 and df2 on custmor id\n",
    "df3 = pd.merge(df1,df2,how='inner',on='customer_id')\n",
    "df3.to_csv('df3.csv')"
   ]
  },
  {
   "cell_type": "code",
   "execution_count": null,
   "metadata": {},
   "outputs": [],
   "source": []
  }
 ],
 "metadata": {
  "kernelspec": {
   "display_name": "Python 3",
   "language": "python",
   "name": "python3"
  },
  "language_info": {
   "codemirror_mode": {
    "name": "ipython",
    "version": 3
   },
   "file_extension": ".py",
   "mimetype": "text/x-python",
   "name": "python",
   "nbconvert_exporter": "python",
   "pygments_lexer": "ipython3",
   "version": "3.5.2"
  }
 },
 "nbformat": 4,
 "nbformat_minor": 2
}
