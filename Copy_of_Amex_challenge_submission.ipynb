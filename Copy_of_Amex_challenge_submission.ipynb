{
  "nbformat": 4,
  "nbformat_minor": 0,
  "metadata": {
    "kernelspec": {
      "display_name": "Python 3",
      "language": "python",
      "name": "python3"
    },
    "language_info": {
      "codemirror_mode": {
        "name": "ipython",
        "version": 3
      },
      "file_extension": ".py",
      "mimetype": "text/x-python",
      "name": "python",
      "nbconvert_exporter": "python",
      "pygments_lexer": "ipython3",
      "version": "3.5.2"
    },
    "colab": {
      "name": "Copy of Amex_challenge_submission.ipynb",
      "provenance": [],
      "collapsed_sections": []
    }
  },
  "cells": [
    {
      "cell_type": "code",
      "metadata": {
        "id": "A76RLeqW0ZtP",
        "colab_type": "code",
        "colab": {}
      },
      "source": [
        "import pandas as pd\n",
        "train_data_path = \"data/train_AUpWtIz/train.csv\"\n",
        "campaign_data_path = \"data/train_AUpWtIz/campaign_data.csv\"\n",
        "coupon_item_mapping_data_path = \"data/train_AUpWtIz/coupon_item_mapping.csv\"\n",
        "customer_demographics_data_path = \"data/train_AUpWtIz/customer_demographics.csv\"\n",
        "customer_transaction_data_path = \"data/train_AUpWtIz/customer_transaction_data.csv\"\n",
        "item_data_path = \"data/train_AUpWtIz/item_data.csv\"\n",
        "\n",
        "train_df = pd.read_csv(train_data_path)\n",
        "campaign_df = pd.read_csv(campaign_data_path)\n",
        "coupon_item_df = pd.read_csv(coupon_item_mapping_data_path)\n",
        "customer_demo_df = pd.read_csv(customer_demographics_data_path)\n",
        "customer_trans_df = pd.read_csv(customer_transaction_data_path)\n",
        "item_df =  pd.read_csv(item_data_path)"
      ],
      "execution_count": 0,
      "outputs": []
    },
    {
      "cell_type": "code",
      "metadata": {
        "id": "ZIBkc7Yx0egC",
        "colab_type": "code",
        "colab": {}
      },
      "source": [
        "from IPython.display import Image\n",
        "try:\n",
        "  filename = take_photo()\n",
        "  print('Saved to {}'.format(filename))\n",
        "  \n",
        "  # Show the image which was just taken.\n",
        "  display(Image(filename))\n",
        "except Exception as err:\n",
        "  # Errors will be thrown if the user does not have a webcam or if they do not\n",
        "  # grant the page permission to access it.\n",
        "  print(str(err))"
      ],
      "execution_count": 0,
      "outputs": []
    },
    {
      "cell_type": "code",
      "metadata": {
        "id": "ffA3bYE60Ztd",
        "colab_type": "code",
        "outputId": "e23139df-f9d2-4e22-ba58-9c7abe215d7d",
        "colab": {}
      },
      "source": [
        "train_df.describe()"
      ],
      "execution_count": 0,
      "outputs": [
        {
          "output_type": "execute_result",
          "data": {
            "text/html": [
              "<div>\n",
              "<table border=\"1\" class=\"dataframe\">\n",
              "  <thead>\n",
              "    <tr style=\"text-align: right;\">\n",
              "      <th></th>\n",
              "      <th>id</th>\n",
              "      <th>campaign_id</th>\n",
              "      <th>coupon_id</th>\n",
              "      <th>customer_id</th>\n",
              "      <th>redemption_status</th>\n",
              "    </tr>\n",
              "  </thead>\n",
              "  <tbody>\n",
              "    <tr>\n",
              "      <th>count</th>\n",
              "      <td>78369.000000</td>\n",
              "      <td>78369.000000</td>\n",
              "      <td>78369.000000</td>\n",
              "      <td>78369.000000</td>\n",
              "      <td>78369.000000</td>\n",
              "    </tr>\n",
              "    <tr>\n",
              "      <th>mean</th>\n",
              "      <td>64347.975449</td>\n",
              "      <td>13.974441</td>\n",
              "      <td>566.363243</td>\n",
              "      <td>787.451888</td>\n",
              "      <td>0.009302</td>\n",
              "    </tr>\n",
              "    <tr>\n",
              "      <th>std</th>\n",
              "      <td>37126.440855</td>\n",
              "      <td>8.019215</td>\n",
              "      <td>329.966054</td>\n",
              "      <td>456.811339</td>\n",
              "      <td>0.095999</td>\n",
              "    </tr>\n",
              "    <tr>\n",
              "      <th>min</th>\n",
              "      <td>1.000000</td>\n",
              "      <td>1.000000</td>\n",
              "      <td>1.000000</td>\n",
              "      <td>1.000000</td>\n",
              "      <td>0.000000</td>\n",
              "    </tr>\n",
              "    <tr>\n",
              "      <th>25%</th>\n",
              "      <td>32260.000000</td>\n",
              "      <td>8.000000</td>\n",
              "      <td>280.000000</td>\n",
              "      <td>399.000000</td>\n",
              "      <td>0.000000</td>\n",
              "    </tr>\n",
              "    <tr>\n",
              "      <th>50%</th>\n",
              "      <td>64318.000000</td>\n",
              "      <td>13.000000</td>\n",
              "      <td>597.000000</td>\n",
              "      <td>781.000000</td>\n",
              "      <td>0.000000</td>\n",
              "    </tr>\n",
              "    <tr>\n",
              "      <th>75%</th>\n",
              "      <td>96577.000000</td>\n",
              "      <td>13.000000</td>\n",
              "      <td>857.000000</td>\n",
              "      <td>1190.000000</td>\n",
              "      <td>0.000000</td>\n",
              "    </tr>\n",
              "    <tr>\n",
              "      <th>max</th>\n",
              "      <td>128595.000000</td>\n",
              "      <td>30.000000</td>\n",
              "      <td>1115.000000</td>\n",
              "      <td>1582.000000</td>\n",
              "      <td>1.000000</td>\n",
              "    </tr>\n",
              "  </tbody>\n",
              "</table>\n",
              "</div>"
            ],
            "text/plain": [
              "                  id   campaign_id     coupon_id   customer_id  \\\n",
              "count   78369.000000  78369.000000  78369.000000  78369.000000   \n",
              "mean    64347.975449     13.974441    566.363243    787.451888   \n",
              "std     37126.440855      8.019215    329.966054    456.811339   \n",
              "min         1.000000      1.000000      1.000000      1.000000   \n",
              "25%     32260.000000      8.000000    280.000000    399.000000   \n",
              "50%     64318.000000     13.000000    597.000000    781.000000   \n",
              "75%     96577.000000     13.000000    857.000000   1190.000000   \n",
              "max    128595.000000     30.000000   1115.000000   1582.000000   \n",
              "\n",
              "       redemption_status  \n",
              "count       78369.000000  \n",
              "mean            0.009302  \n",
              "std             0.095999  \n",
              "min             0.000000  \n",
              "25%             0.000000  \n",
              "50%             0.000000  \n",
              "75%             0.000000  \n",
              "max             1.000000  "
            ]
          },
          "metadata": {
            "tags": []
          },
          "execution_count": 2
        }
      ]
    },
    {
      "cell_type": "code",
      "metadata": {
        "id": "K876GBjA0Ztp",
        "colab_type": "code",
        "outputId": "9b5555d1-8be4-4557-8c61-1cd5d6ab7b44",
        "colab": {}
      },
      "source": [
        "print(train_df.isnull().sum())\n",
        "print(\"-------------------------------\")\n",
        "print(campaign_df.isnull().sum())\n",
        "print(\"-------------------------------\")\n",
        "print(coupon_item_df.isnull().sum())\n",
        "print(\"-------------------------------\")\n",
        "print(customer_demo_df.isnull().sum())\n",
        "print(\"-------------------------------\")\n",
        "print(customer_trans_df.isnull().sum())\n",
        "print(\"-------------------------------\")\n",
        "print(item_df.isnull().sum())\n",
        "print(\"-------------------------------\")"
      ],
      "execution_count": 0,
      "outputs": [
        {
          "output_type": "stream",
          "text": [
            "id                   0\n",
            "campaign_id          0\n",
            "coupon_id            0\n",
            "customer_id          0\n",
            "redemption_status    0\n",
            "dtype: int64\n",
            "-------------------------------\n",
            "campaign_id       0\n",
            "campaign_type     0\n",
            "start_date        0\n",
            "end_date          0\n",
            "correction       23\n",
            "dtype: int64\n",
            "-------------------------------\n",
            "coupon_id    0\n",
            "item_id      0\n",
            "dtype: int64\n",
            "-------------------------------\n",
            "customer_id         0\n",
            "age_range           0\n",
            "marital_status    329\n",
            "rented              0\n",
            "family_size         0\n",
            "no_of_children    538\n",
            "income_bracket      0\n",
            "dtype: int64\n",
            "-------------------------------\n",
            "date               0\n",
            "customer_id        0\n",
            "item_id            0\n",
            "quantity           0\n",
            "selling_price      0\n",
            "other_discount     0\n",
            "coupon_discount    0\n",
            "dtype: int64\n",
            "-------------------------------\n",
            "item_id       0\n",
            "brand         0\n",
            "brand_type    0\n",
            "category      0\n",
            "dtype: int64\n",
            "-------------------------------\n"
          ],
          "name": "stdout"
        }
      ]
    },
    {
      "cell_type": "code",
      "metadata": {
        "id": "Xb47dZjt0Ztx",
        "colab_type": "code",
        "colab": {}
      },
      "source": [
        "customer_demo_df = customer_demo_df[['customer_id', 'age_range', 'rented', 'family_size','income_bracket']]"
      ],
      "execution_count": 0,
      "outputs": []
    },
    {
      "cell_type": "code",
      "metadata": {
        "id": "GWRHa31I0Zt4",
        "colab_type": "code",
        "colab": {}
      },
      "source": [
        "#train_df has all the numeric columns\n",
        "import datetime\n",
        "campaign_df_1 = campaign_df.copy()\n",
        "campaign_df_1['start_date'] = campaign_df_1['start_date'].apply(lambda x: datetime.datetime.strptime(x,\"%d/%m/%y\"))\n",
        "campaign_df_1['end_date'] = campaign_df_1['end_date'].apply(lambda x: datetime.datetime.strptime(x,\"%d/%m/%y\"))\n",
        "campaign_df_1['month'] = campaign_df_1['start_date'].dt.month\n"
      ],
      "execution_count": 0,
      "outputs": []
    },
    {
      "cell_type": "code",
      "metadata": {
        "id": "5-Ve0xHB0Zt-",
        "colab_type": "code",
        "colab": {}
      },
      "source": [
        "#check the campaign dataframe\n",
        "campaign_df.select_dtypes(exclude = [\"number\"])\n",
        "#it gives three col \"campaign_type\" ,\"start_date\",\"end_date\" are not numbers.\n",
        "\n",
        "#USING GETDUMMIES FUNCTION\n",
        "campaign_df_1 = pd.get_dummies(campaign_df_1,columns = ['campaign_type'])\n",
        "#df_with_dummies = pd.get_dummies( df, columns = cols_to_transform )\n",
        "\n",
        "#check the duration and month from the dates.\n",
        "campaign_df_1['total_days'] = campaign_df_1['end_date'].values - campaign_df_1['start_date'].values\n"
      ],
      "execution_count": 0,
      "outputs": []
    },
    {
      "cell_type": "code",
      "metadata": {
        "id": "IYLHLEtT0ZuG",
        "colab_type": "code",
        "colab": {}
      },
      "source": [
        "#Desired columns from campaign_df csv = ['month',campaign_type_X,campaign_type_Y,total_days]\n",
        "campaign_data_df = campaign_df_1.loc[:,[\"campaign_id\",'month','campaign_type_X','campaign_type_Y','total_days']]\n",
        "campaign_data_df['total_days'] = campaign_data_df['total_days'].dt.days\n",
        "campaign_data_df.to_csv(\"campaign_data_df.csv\")"
      ],
      "execution_count": 0,
      "outputs": []
    },
    {
      "cell_type": "code",
      "metadata": {
        "id": "VVII5Elu0ZuK",
        "colab_type": "code",
        "colab": {}
      },
      "source": [
        "#lets numalarise   coupon_item_mapping_data_path csv \n",
        "\n",
        "#nothing is there to convert."
      ],
      "execution_count": 0,
      "outputs": []
    },
    {
      "cell_type": "code",
      "metadata": {
        "id": "TeGmF81r0ZuR",
        "colab_type": "code",
        "colab": {}
      },
      "source": [
        "#lets numalarise customer_demographics_data_path csv\n",
        "customer_demo_df_1 = customer_demo_df.copy()\n",
        "list1 = ['customer_id', 'age_range', 'rented', 'family_size', 'income_bracket']\n",
        "list2 = ['age_range','rented','income_bracket']\n",
        "#rented is categorical \n",
        "#age range is categorical\n",
        "#income_bracket is categorical data \n",
        "#convert them to categorical variable.\n",
        "customer_demo_df_1 = pd.get_dummies(customer_demo_df_1, columns = list2)\n",
        "customer_demo_df_1.to_csv('customer_demo_df_1.csv')"
      ],
      "execution_count": 0,
      "outputs": []
    },
    {
      "cell_type": "code",
      "metadata": {
        "id": "wZDhC9Jz0ZuW",
        "colab_type": "code",
        "colab": {}
      },
      "source": [
        "#lets move to customer_transaction_data_path\n",
        "customer_transaction_data_path = \"data/train_AUpWtIz/customer_transaction_data.csv\"\n",
        "customer_trans_df = pd.read_csv(customer_transaction_data_path)\n",
        "#nothing to change here."
      ],
      "execution_count": 0,
      "outputs": []
    },
    {
      "cell_type": "code",
      "metadata": {
        "id": "GX8ZVhIq0Zuh",
        "colab_type": "code",
        "colab": {}
      },
      "source": [
        "#the last one is item_data_path\n",
        "item_data_path = \"data/train_AUpWtIz/item_data.csv\"\n",
        "item_df =  pd.read_csv(item_data_path)\n",
        "item_df_1 = item_df.loc[:,['item_id', 'brand_type', 'category']]\n",
        "list3 = ['brand_type', 'category']\n",
        "#convert above list to categorical variables.\n",
        "item_df_1 = pd.get_dummies(item_df_1, columns = list3)\n",
        "item_df_1.to_csv(\"item_df_1.csv\")"
      ],
      "execution_count": 0,
      "outputs": []
    },
    {
      "cell_type": "code",
      "metadata": {
        "id": "BwjbBHWJ0Zuu",
        "colab_type": "code",
        "outputId": "3a1155fb-dc36-4159-c718-f517c7814996",
        "colab": {
          "base_uri": "https://localhost:8080/",
          "height": 553
        }
      },
      "source": [
        "# lets group them together customer_demo_df and customer_trans_df\n",
        "#combine train and campaign type.\n",
        "#two dataframes are -\n",
        "import pandas as pd\n",
        "demo_df = pd.read_csv('customer_demo_df_1.csv')\n",
        "c_trans_df = pd.read_csv('customer_transaction_data.csv')\n",
        "\n",
        "demo_df['customer_id'].astype('int')\n",
        "c_trans_df['customer_id'].astype('int')\n",
        "\n",
        "b = demo_df.set_index(\"customer_id\")\n",
        "\n",
        "df1 = c_trans_df.join(b,lsuffix='L_',rsuffix='R_',on=\"customer_id\")\n",
        "#del df1['Unnamed: 0']\n",
        "# del df1['date']\n",
        "# del df1['id']\n",
        "# df1.dropna(inplace=True)\n",
        "df1.isnull().sum()\n",
        "#df1.to_csv(\"transaction_demo.csv\")\n",
        "#df1.head()"
      ],
      "execution_count": 33,
      "outputs": [
        {
          "output_type": "execute_result",
          "data": {
            "text/plain": [
              "date                     0\n",
              "customer_id              0\n",
              "item_id                  0\n",
              "quantity                 0\n",
              "selling_price            0\n",
              "other_discount           1\n",
              "coupon_discount          1\n",
              "Unnamed: 0           24443\n",
              "family_size          24443\n",
              "age_range_18-25      24443\n",
              "age_range_26-35      24443\n",
              "age_range_36-45      24443\n",
              "age_range_46-55      24443\n",
              "age_range_56-70      24443\n",
              "age_range_70+        24443\n",
              "rented_0             24443\n",
              "rented_1             24443\n",
              "income_bracket_1     24443\n",
              "income_bracket_2     24443\n",
              "income_bracket_3     24443\n",
              "income_bracket_4     24443\n",
              "income_bracket_5     24443\n",
              "income_bracket_6     24443\n",
              "income_bracket_7     24443\n",
              "income_bracket_8     24443\n",
              "income_bracket_9     24443\n",
              "income_bracket_10    24443\n",
              "income_bracket_11    24443\n",
              "income_bracket_12    24443\n",
              "dtype: int64"
            ]
          },
          "metadata": {
            "tags": []
          },
          "execution_count": 33
        }
      ]
    },
    {
      "cell_type": "code",
      "metadata": {
        "id": "mK1VjWIFb4XX",
        "colab_type": "code",
        "colab": {
          "base_uri": "https://localhost:8080/",
          "height": 244
        },
        "outputId": "5dab7c9c-dc2c-462c-ca81-3a0c860f469c"
      },
      "source": [
        "#join train and campain df on campaign_id\n",
        "tr =   pd.read_csv('train.csv')\n",
        "camp = pd.read_csv('campaign_data_df.csv')\n",
        "tr['campaign_id'].astype('int')\n",
        "tr['campaign_id'].astype('int')\n",
        "b = camp.set_index('campaign_id')\n",
        "df2 = tr.join(b,on='campaign_id',lsuffix=\"_L\",rsuffix='_R')\n",
        "df2.to_csv('train_campaign.csv')\n",
        "df2.head()\n"
      ],
      "execution_count": 19,
      "outputs": [
        {
          "output_type": "execute_result",
          "data": {
            "text/html": [
              "<div>\n",
              "<style scoped>\n",
              "    .dataframe tbody tr th:only-of-type {\n",
              "        vertical-align: middle;\n",
              "    }\n",
              "\n",
              "    .dataframe tbody tr th {\n",
              "        vertical-align: top;\n",
              "    }\n",
              "\n",
              "    .dataframe thead th {\n",
              "        text-align: right;\n",
              "    }\n",
              "</style>\n",
              "<table border=\"1\" class=\"dataframe\">\n",
              "  <thead>\n",
              "    <tr style=\"text-align: right;\">\n",
              "      <th></th>\n",
              "      <th>id</th>\n",
              "      <th>campaign_id</th>\n",
              "      <th>coupon_id</th>\n",
              "      <th>customer_id</th>\n",
              "      <th>redemption_status</th>\n",
              "      <th>Unnamed: 0</th>\n",
              "      <th>month</th>\n",
              "      <th>campaign_type_X</th>\n",
              "      <th>campaign_type_Y</th>\n",
              "      <th>total_days</th>\n",
              "    </tr>\n",
              "  </thead>\n",
              "  <tbody>\n",
              "    <tr>\n",
              "      <th>0</th>\n",
              "      <td>1</td>\n",
              "      <td>13</td>\n",
              "      <td>27</td>\n",
              "      <td>1053</td>\n",
              "      <td>0</td>\n",
              "      <td>10</td>\n",
              "      <td>5</td>\n",
              "      <td>1</td>\n",
              "      <td>0</td>\n",
              "      <td>47</td>\n",
              "    </tr>\n",
              "    <tr>\n",
              "      <th>1</th>\n",
              "      <td>2</td>\n",
              "      <td>13</td>\n",
              "      <td>116</td>\n",
              "      <td>48</td>\n",
              "      <td>0</td>\n",
              "      <td>10</td>\n",
              "      <td>5</td>\n",
              "      <td>1</td>\n",
              "      <td>0</td>\n",
              "      <td>47</td>\n",
              "    </tr>\n",
              "    <tr>\n",
              "      <th>2</th>\n",
              "      <td>6</td>\n",
              "      <td>9</td>\n",
              "      <td>635</td>\n",
              "      <td>205</td>\n",
              "      <td>0</td>\n",
              "      <td>14</td>\n",
              "      <td>3</td>\n",
              "      <td>0</td>\n",
              "      <td>1</td>\n",
              "      <td>32</td>\n",
              "    </tr>\n",
              "    <tr>\n",
              "      <th>3</th>\n",
              "      <td>7</td>\n",
              "      <td>13</td>\n",
              "      <td>644</td>\n",
              "      <td>1050</td>\n",
              "      <td>0</td>\n",
              "      <td>10</td>\n",
              "      <td>5</td>\n",
              "      <td>1</td>\n",
              "      <td>0</td>\n",
              "      <td>47</td>\n",
              "    </tr>\n",
              "    <tr>\n",
              "      <th>4</th>\n",
              "      <td>9</td>\n",
              "      <td>8</td>\n",
              "      <td>1017</td>\n",
              "      <td>1489</td>\n",
              "      <td>0</td>\n",
              "      <td>15</td>\n",
              "      <td>2</td>\n",
              "      <td>1</td>\n",
              "      <td>0</td>\n",
              "      <td>48</td>\n",
              "    </tr>\n",
              "  </tbody>\n",
              "</table>\n",
              "</div>"
            ],
            "text/plain": [
              "   id  campaign_id  coupon_id  ...  campaign_type_X  campaign_type_Y  total_days\n",
              "0   1           13         27  ...                1                0          47\n",
              "1   2           13        116  ...                1                0          47\n",
              "2   6            9        635  ...                0                1          32\n",
              "3   7           13        644  ...                1                0          47\n",
              "4   9            8       1017  ...                1                0          48\n",
              "\n",
              "[5 rows x 10 columns]"
            ]
          },
          "metadata": {
            "tags": []
          },
          "execution_count": 19
        }
      ]
    },
    {
      "cell_type": "code",
      "metadata": {
        "id": "Sg_fNZNWo4AT",
        "colab_type": "code",
        "colab": {}
      },
      "source": [
        "#lets add df1 and df2 dataframe on customer_id\n",
        "df2['customer_id'].astype('int')\n",
        "df1['customer_id'].astype('int')\n",
        "\n",
        "b = df1.set_index('customer_id')\n",
        "df3 = df2.join(b,on='customer_id',lsuffix='_L',rsuffix='_R')\n",
        "\n",
        "#df3.isnull().sum()\n",
        "df3.to_csv('train_campaign_demo_trans.csv')\n"
      ],
      "execution_count": 0,
      "outputs": []
    },
    {
      "cell_type": "code",
      "metadata": {
        "id": "yTGU9YyRw3Ja",
        "colab_type": "code",
        "colab": {
          "base_uri": "https://localhost:8080/",
          "height": 732
        },
        "outputId": "34d8bfcf-43f9-4a37-870d-1225f2ea8b34"
      },
      "source": [
        "#lets find out those rows who have coupon id.\n",
        "#join df3 with coupne item mapping using item id\n",
        "a = pd.read_csv('coupon_item_mapping.csv') \n",
        "df3.dropna(inplace=True)\n",
        "#df3.isnull().sum()\n",
        "df3['item_id'].astype('int')\n",
        "\n",
        "a['item_id'].astype('int')\n",
        "b = a.set_index('item_id')\n",
        "df4 = df3.join(b, on='item_id', lsuffix='_L', rsuffix='_R')\n",
        "df4.dropna(inplace = True)\n",
        "df4.isnull().sum()\n"
      ],
      "execution_count": 37,
      "outputs": [
        {
          "output_type": "execute_result",
          "data": {
            "text/plain": [
              "id                   0\n",
              "campaign_id          0\n",
              "coupon_id_L          0\n",
              "customer_id          0\n",
              "redemption_status    0\n",
              "Unnamed: 0_L         0\n",
              "month                0\n",
              "campaign_type_X      0\n",
              "campaign_type_Y      0\n",
              "total_days           0\n",
              "date                 0\n",
              "item_id              0\n",
              "quantity             0\n",
              "selling_price        0\n",
              "other_discount       0\n",
              "coupon_discount      0\n",
              "Unnamed: 0_R         0\n",
              "family_size          0\n",
              "age_range_18-25      0\n",
              "age_range_26-35      0\n",
              "age_range_36-45      0\n",
              "age_range_46-55      0\n",
              "age_range_56-70      0\n",
              "age_range_70+        0\n",
              "rented_0             0\n",
              "rented_1             0\n",
              "income_bracket_1     0\n",
              "income_bracket_2     0\n",
              "income_bracket_3     0\n",
              "income_bracket_4     0\n",
              "income_bracket_5     0\n",
              "income_bracket_6     0\n",
              "income_bracket_7     0\n",
              "income_bracket_8     0\n",
              "income_bracket_9     0\n",
              "income_bracket_10    0\n",
              "income_bracket_11    0\n",
              "income_bracket_12    0\n",
              "coupon_id_R          0\n",
              "dtype: int64"
            ]
          },
          "metadata": {
            "tags": []
          },
          "execution_count": 37
        }
      ]
    },
    {
      "cell_type": "code",
      "metadata": {
        "id": "RFH8pnROs6z2",
        "colab_type": "code",
        "colab": {}
      },
      "source": [
        "del df4['coupon_id_R']\n"
      ],
      "execution_count": 0,
      "outputs": []
    },
    {
      "cell_type": "code",
      "metadata": {
        "id": "vsw-wGlT9PUT",
        "colab_type": "code",
        "colab": {
          "base_uri": "https://localhost:8080/",
          "height": 376
        },
        "outputId": "79132b82-f5d3-4151-aa3e-3e2f1d8a5b15"
      },
      "source": [
        "#finally combine the item data with the original dataframe.\n",
        "#combine on the basis of 'item_id'\n",
        "df4['item_id'].astype('int')\n",
        "a = pd.read_csv('item_df_1.csv')\n",
        "a['item_id'].astype('int')\n",
        "b = a.set_index('item_id')\n",
        "df5 = df4.join(b,on='item_id',lsuffix='_L',rsuffix='_R')\n",
        "#df5.isnull().sum()\n",
        "df5.to_csv('final_dataframe.csv')\n"
      ],
      "execution_count": 43,
      "outputs": [
        {
          "output_type": "error",
          "ename": "KeyboardInterrupt",
          "evalue": "ignored",
          "traceback": [
            "\u001b[0;31m---------------------------------------------------------------------------\u001b[0m",
            "\u001b[0;31mKeyboardInterrupt\u001b[0m                         Traceback (most recent call last)",
            "\u001b[0;32m<ipython-input-43-f9876476480a>\u001b[0m in \u001b[0;36m<module>\u001b[0;34m()\u001b[0m\n\u001b[1;32m      5\u001b[0m \u001b[0mdf5\u001b[0m \u001b[0;34m=\u001b[0m \u001b[0mdf4\u001b[0m\u001b[0;34m.\u001b[0m\u001b[0mjoin\u001b[0m\u001b[0;34m(\u001b[0m\u001b[0mb\u001b[0m\u001b[0;34m,\u001b[0m\u001b[0mon\u001b[0m\u001b[0;34m=\u001b[0m\u001b[0;34m'item_id'\u001b[0m\u001b[0;34m,\u001b[0m\u001b[0mlsuffix\u001b[0m\u001b[0;34m=\u001b[0m\u001b[0;34m'_L'\u001b[0m\u001b[0;34m,\u001b[0m\u001b[0mrsuffix\u001b[0m\u001b[0;34m=\u001b[0m\u001b[0;34m'_R'\u001b[0m\u001b[0;34m)\u001b[0m\u001b[0;34m\u001b[0m\u001b[0;34m\u001b[0m\u001b[0m\n\u001b[1;32m      6\u001b[0m \u001b[0;31m#df5.isnull().sum()\u001b[0m\u001b[0;34m\u001b[0m\u001b[0;34m\u001b[0m\u001b[0;34m\u001b[0m\u001b[0m\n\u001b[0;32m----> 7\u001b[0;31m \u001b[0mdf5\u001b[0m\u001b[0;34m.\u001b[0m\u001b[0mto_csv\u001b[0m\u001b[0;34m(\u001b[0m\u001b[0;34m'final_dataframe.csv'\u001b[0m\u001b[0;34m)\u001b[0m\u001b[0;34m\u001b[0m\u001b[0;34m\u001b[0m\u001b[0m\n\u001b[0m",
            "\u001b[0;32m/usr/local/lib/python3.6/dist-packages/pandas/core/generic.py\u001b[0m in \u001b[0;36mto_csv\u001b[0;34m(self, path_or_buf, sep, na_rep, float_format, columns, header, index, index_label, mode, encoding, compression, quoting, quotechar, line_terminator, chunksize, tupleize_cols, date_format, doublequote, escapechar, decimal)\u001b[0m\n\u001b[1;32m   3018\u001b[0m                                  \u001b[0mdoublequote\u001b[0m\u001b[0;34m=\u001b[0m\u001b[0mdoublequote\u001b[0m\u001b[0;34m,\u001b[0m\u001b[0;34m\u001b[0m\u001b[0;34m\u001b[0m\u001b[0m\n\u001b[1;32m   3019\u001b[0m                                  escapechar=escapechar, decimal=decimal)\n\u001b[0;32m-> 3020\u001b[0;31m         \u001b[0mformatter\u001b[0m\u001b[0;34m.\u001b[0m\u001b[0msave\u001b[0m\u001b[0;34m(\u001b[0m\u001b[0;34m)\u001b[0m\u001b[0;34m\u001b[0m\u001b[0;34m\u001b[0m\u001b[0m\n\u001b[0m\u001b[1;32m   3021\u001b[0m \u001b[0;34m\u001b[0m\u001b[0m\n\u001b[1;32m   3022\u001b[0m         \u001b[0;32mif\u001b[0m \u001b[0mpath_or_buf\u001b[0m \u001b[0;32mis\u001b[0m \u001b[0;32mNone\u001b[0m\u001b[0;34m:\u001b[0m\u001b[0;34m\u001b[0m\u001b[0;34m\u001b[0m\u001b[0m\n",
            "\u001b[0;32m/usr/local/lib/python3.6/dist-packages/pandas/io/formats/csvs.py\u001b[0m in \u001b[0;36msave\u001b[0;34m(self)\u001b[0m\n\u001b[1;32m    170\u001b[0m                 \u001b[0mself\u001b[0m\u001b[0;34m.\u001b[0m\u001b[0mwriter\u001b[0m \u001b[0;34m=\u001b[0m \u001b[0mUnicodeWriter\u001b[0m\u001b[0;34m(\u001b[0m\u001b[0mf\u001b[0m\u001b[0;34m,\u001b[0m \u001b[0;34m**\u001b[0m\u001b[0mwriter_kwargs\u001b[0m\u001b[0;34m)\u001b[0m\u001b[0;34m\u001b[0m\u001b[0;34m\u001b[0m\u001b[0m\n\u001b[1;32m    171\u001b[0m \u001b[0;34m\u001b[0m\u001b[0m\n\u001b[0;32m--> 172\u001b[0;31m             \u001b[0mself\u001b[0m\u001b[0;34m.\u001b[0m\u001b[0m_save\u001b[0m\u001b[0;34m(\u001b[0m\u001b[0;34m)\u001b[0m\u001b[0;34m\u001b[0m\u001b[0;34m\u001b[0m\u001b[0m\n\u001b[0m\u001b[1;32m    173\u001b[0m \u001b[0;34m\u001b[0m\u001b[0m\n\u001b[1;32m    174\u001b[0m         \u001b[0;32mfinally\u001b[0m\u001b[0;34m:\u001b[0m\u001b[0;34m\u001b[0m\u001b[0;34m\u001b[0m\u001b[0m\n",
            "\u001b[0;32m/usr/local/lib/python3.6/dist-packages/pandas/io/formats/csvs.py\u001b[0m in \u001b[0;36m_save\u001b[0;34m(self)\u001b[0m\n\u001b[1;32m    286\u001b[0m                 \u001b[0;32mbreak\u001b[0m\u001b[0;34m\u001b[0m\u001b[0;34m\u001b[0m\u001b[0m\n\u001b[1;32m    287\u001b[0m \u001b[0;34m\u001b[0m\u001b[0m\n\u001b[0;32m--> 288\u001b[0;31m             \u001b[0mself\u001b[0m\u001b[0;34m.\u001b[0m\u001b[0m_save_chunk\u001b[0m\u001b[0;34m(\u001b[0m\u001b[0mstart_i\u001b[0m\u001b[0;34m,\u001b[0m \u001b[0mend_i\u001b[0m\u001b[0;34m)\u001b[0m\u001b[0;34m\u001b[0m\u001b[0;34m\u001b[0m\u001b[0m\n\u001b[0m\u001b[1;32m    289\u001b[0m \u001b[0;34m\u001b[0m\u001b[0m\n\u001b[1;32m    290\u001b[0m     \u001b[0;32mdef\u001b[0m \u001b[0m_save_chunk\u001b[0m\u001b[0;34m(\u001b[0m\u001b[0mself\u001b[0m\u001b[0;34m,\u001b[0m \u001b[0mstart_i\u001b[0m\u001b[0;34m,\u001b[0m \u001b[0mend_i\u001b[0m\u001b[0;34m)\u001b[0m\u001b[0;34m:\u001b[0m\u001b[0;34m\u001b[0m\u001b[0;34m\u001b[0m\u001b[0m\n",
            "\u001b[0;32m/usr/local/lib/python3.6/dist-packages/pandas/io/formats/csvs.py\u001b[0m in \u001b[0;36m_save_chunk\u001b[0;34m(self, start_i, end_i)\u001b[0m\n\u001b[1;32m    313\u001b[0m \u001b[0;34m\u001b[0m\u001b[0m\n\u001b[1;32m    314\u001b[0m         libwriters.write_csv_rows(self.data, ix, self.nlevels,\n\u001b[0;32m--> 315\u001b[0;31m                                   self.cols, self.writer)\n\u001b[0m",
            "\u001b[0;32mpandas/_libs/writers.pyx\u001b[0m in \u001b[0;36mpandas._libs.writers.write_csv_rows\u001b[0;34m()\u001b[0m\n",
            "\u001b[0;31mKeyboardInterrupt\u001b[0m: "
          ]
        }
      ]
    },
    {
      "cell_type": "code",
      "metadata": {
        "id": "Rp1aigL2xjIs",
        "colab_type": "code",
        "colab": {}
      },
      "source": [
        "#lets do the EDA in our dataset.\n",
        "import pandas as pd\n",
        "test_df = pd.read_csv('final_dataframe.csv') \n",
        "\n",
        "list1 = ['Unnamed: 0.1','Unnamed: 0','Unnamed: 0_L','Unnamed: 0_R','id','campaign_id','coupon_id_L','customer_id','item_id','date']\n",
        "for i in list1:\n",
        "  del test_df[i]\n",
        "\n",
        "# print(test_df.columns)\n",
        "# print(test_df.isnull().sum())\n",
        "# print(test_df.head())\n",
        "\n",
        "target = test_df['redemption_status']\n",
        "test_df.drop(['redemption_status'],axis=1,inplace = True)\n",
        "test_df['redemption_status']=target\n",
        "test_df.head()\n",
        "test_df.to_csv('final_test2.csv')"
      ],
      "execution_count": 0,
      "outputs": []
    },
    {
      "cell_type": "code",
      "metadata": {
        "id": "Pa_Wm9Gu50HB",
        "colab_type": "code",
        "colab": {
          "base_uri": "https://localhost:8080/",
          "height": 35
        },
        "outputId": "1bc84105-610e-4904-a2d3-9cd1a2e873d8"
      },
      "source": [
        "#we have last dataframe final_test2.csv contains (63638, 52) \n",
        "test2 = pd.read_csv('final_test2.csv')\n",
        "# lets do the EDA IN dataframe.\n",
        "#first plot the target column and their values\n",
        "import seaborn as sn \n",
        "\n"
      ],
      "execution_count": 12,
      "outputs": [
        {
          "output_type": "execute_result",
          "data": {
            "text/plain": [
              "(63638, 52)"
            ]
          },
          "metadata": {
            "tags": []
          },
          "execution_count": 12
        }
      ]
    },
    {
      "cell_type": "code",
      "metadata": {
        "id": "_YluQ2EFc9oB",
        "colab_type": "code",
        "colab": {
          "base_uri": "https://localhost:8080/",
          "height": 140
        },
        "outputId": "600fc6f8-b1e5-42de-d54f-3cf82c37e67a"
      },
      "source": [
        " !ps -aux|grep python\n",
        " !kill 126"
      ],
      "execution_count": 0,
      "outputs": [
        {
          "output_type": "stream",
          "text": [
            "root          24  0.2  0.7 421872 103132 ?       Sl   02:59   0:18 /usr/bin/python2 /usr/local/bin/jupyter-notebook --ip=\"172.28.0.2\" --port=9000 --FileContentsManager.root_dir=\"/\" --MappingKernelManager.root_dir=\"/content\"\n",
            "root         126  6.8 88.6 12955392 11825160 ?   Ssl  03:07   8:13 /usr/bin/python3 -m ipykernel_launcher -f /root/.local/share/jupyter/runtime/kernel-b1ae66aa-6457-4319-9fe6-f4ccd7669a5f.json\n",
            "root        1797  0.0  0.0  39192  6464 ?        S    05:07   0:00 /bin/bash -c ps -aux|grep python\n",
            "root        1799  0.0  0.0  38572  4988 ?        S    05:07   0:00 grep python\n"
          ],
          "name": "stdout"
        }
      ]
    }
  ]
}