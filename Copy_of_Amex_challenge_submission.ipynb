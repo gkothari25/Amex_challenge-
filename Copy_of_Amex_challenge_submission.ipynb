{
  "nbformat": 4,
  "nbformat_minor": 0,
  "metadata": {
    "kernelspec": {
      "display_name": "Python 3",
      "language": "python",
      "name": "python3"
    },
    "language_info": {
      "codemirror_mode": {
        "name": "ipython",
        "version": 3
      },
      "file_extension": ".py",
      "mimetype": "text/x-python",
      "name": "python",
      "nbconvert_exporter": "python",
      "pygments_lexer": "ipython3",
      "version": "3.5.2"
    },
    "colab": {
      "name": "Copy of Amex_challenge_submission.ipynb",
      "provenance": []
    }
  },
  "cells": [
    {
      "cell_type": "code",
      "metadata": {
        "id": "A76RLeqW0ZtP",
        "colab_type": "code",
        "colab": {}
      },
      "source": [
        "import pandas as pd\n",
        "train_data_path = \"data/train_AUpWtIz/train.csv\"\n",
        "campaign_data_path = \"data/train_AUpWtIz/campaign_data.csv\"\n",
        "coupon_item_mapping_data_path = \"data/train_AUpWtIz/coupon_item_mapping.csv\"\n",
        "customer_demographics_data_path = \"data/train_AUpWtIz/customer_demographics.csv\"\n",
        "customer_transaction_data_path = \"data/train_AUpWtIz/customer_transaction_data.csv\"\n",
        "item_data_path = \"data/train_AUpWtIz/item_data.csv\"\n",
        "\n",
        "train_df = pd.read_csv(train_data_path)\n",
        "campaign_df = pd.read_csv(campaign_data_path)\n",
        "coupon_item_df = pd.read_csv(coupon_item_mapping_data_path)\n",
        "customer_demo_df = pd.read_csv(customer_demographics_data_path)\n",
        "customer_trans_df = pd.read_csv(customer_transaction_data_path)\n",
        "item_df =  pd.read_csv(item_data_path)"
      ],
      "execution_count": 0,
      "outputs": []
    },
    {
      "cell_type": "code",
      "metadata": {
        "id": "ZIBkc7Yx0egC",
        "colab_type": "code",
        "colab": {}
      },
      "source": [
        "from IPython.display import Image\n",
        "try:\n",
        "  filename = take_photo()\n",
        "  print('Saved to {}'.format(filename))\n",
        "  \n",
        "  # Show the image which was just taken.\n",
        "  display(Image(filename))\n",
        "except Exception as err:\n",
        "  # Errors will be thrown if the user does not have a webcam or if they do not\n",
        "  # grant the page permission to access it.\n",
        "  print(str(err))"
      ],
      "execution_count": 0,
      "outputs": []
    },
    {
      "cell_type": "code",
      "metadata": {
        "id": "ffA3bYE60Ztd",
        "colab_type": "code",
        "outputId": "e23139df-f9d2-4e22-ba58-9c7abe215d7d",
        "colab": {}
      },
      "source": [
        "train_df.describe()"
      ],
      "execution_count": 0,
      "outputs": [
        {
          "output_type": "execute_result",
          "data": {
            "text/html": [
              "<div>\n",
              "<table border=\"1\" class=\"dataframe\">\n",
              "  <thead>\n",
              "    <tr style=\"text-align: right;\">\n",
              "      <th></th>\n",
              "      <th>id</th>\n",
              "      <th>campaign_id</th>\n",
              "      <th>coupon_id</th>\n",
              "      <th>customer_id</th>\n",
              "      <th>redemption_status</th>\n",
              "    </tr>\n",
              "  </thead>\n",
              "  <tbody>\n",
              "    <tr>\n",
              "      <th>count</th>\n",
              "      <td>78369.000000</td>\n",
              "      <td>78369.000000</td>\n",
              "      <td>78369.000000</td>\n",
              "      <td>78369.000000</td>\n",
              "      <td>78369.000000</td>\n",
              "    </tr>\n",
              "    <tr>\n",
              "      <th>mean</th>\n",
              "      <td>64347.975449</td>\n",
              "      <td>13.974441</td>\n",
              "      <td>566.363243</td>\n",
              "      <td>787.451888</td>\n",
              "      <td>0.009302</td>\n",
              "    </tr>\n",
              "    <tr>\n",
              "      <th>std</th>\n",
              "      <td>37126.440855</td>\n",
              "      <td>8.019215</td>\n",
              "      <td>329.966054</td>\n",
              "      <td>456.811339</td>\n",
              "      <td>0.095999</td>\n",
              "    </tr>\n",
              "    <tr>\n",
              "      <th>min</th>\n",
              "      <td>1.000000</td>\n",
              "      <td>1.000000</td>\n",
              "      <td>1.000000</td>\n",
              "      <td>1.000000</td>\n",
              "      <td>0.000000</td>\n",
              "    </tr>\n",
              "    <tr>\n",
              "      <th>25%</th>\n",
              "      <td>32260.000000</td>\n",
              "      <td>8.000000</td>\n",
              "      <td>280.000000</td>\n",
              "      <td>399.000000</td>\n",
              "      <td>0.000000</td>\n",
              "    </tr>\n",
              "    <tr>\n",
              "      <th>50%</th>\n",
              "      <td>64318.000000</td>\n",
              "      <td>13.000000</td>\n",
              "      <td>597.000000</td>\n",
              "      <td>781.000000</td>\n",
              "      <td>0.000000</td>\n",
              "    </tr>\n",
              "    <tr>\n",
              "      <th>75%</th>\n",
              "      <td>96577.000000</td>\n",
              "      <td>13.000000</td>\n",
              "      <td>857.000000</td>\n",
              "      <td>1190.000000</td>\n",
              "      <td>0.000000</td>\n",
              "    </tr>\n",
              "    <tr>\n",
              "      <th>max</th>\n",
              "      <td>128595.000000</td>\n",
              "      <td>30.000000</td>\n",
              "      <td>1115.000000</td>\n",
              "      <td>1582.000000</td>\n",
              "      <td>1.000000</td>\n",
              "    </tr>\n",
              "  </tbody>\n",
              "</table>\n",
              "</div>"
            ],
            "text/plain": [
              "                  id   campaign_id     coupon_id   customer_id  \\\n",
              "count   78369.000000  78369.000000  78369.000000  78369.000000   \n",
              "mean    64347.975449     13.974441    566.363243    787.451888   \n",
              "std     37126.440855      8.019215    329.966054    456.811339   \n",
              "min         1.000000      1.000000      1.000000      1.000000   \n",
              "25%     32260.000000      8.000000    280.000000    399.000000   \n",
              "50%     64318.000000     13.000000    597.000000    781.000000   \n",
              "75%     96577.000000     13.000000    857.000000   1190.000000   \n",
              "max    128595.000000     30.000000   1115.000000   1582.000000   \n",
              "\n",
              "       redemption_status  \n",
              "count       78369.000000  \n",
              "mean            0.009302  \n",
              "std             0.095999  \n",
              "min             0.000000  \n",
              "25%             0.000000  \n",
              "50%             0.000000  \n",
              "75%             0.000000  \n",
              "max             1.000000  "
            ]
          },
          "metadata": {
            "tags": []
          },
          "execution_count": 2
        }
      ]
    },
    {
      "cell_type": "code",
      "metadata": {
        "id": "K876GBjA0Ztp",
        "colab_type": "code",
        "outputId": "9b5555d1-8be4-4557-8c61-1cd5d6ab7b44",
        "colab": {}
      },
      "source": [
        "print(train_df.isnull().sum())\n",
        "print(\"-------------------------------\")\n",
        "print(campaign_df.isnull().sum())\n",
        "print(\"-------------------------------\")\n",
        "print(coupon_item_df.isnull().sum())\n",
        "print(\"-------------------------------\")\n",
        "print(customer_demo_df.isnull().sum())\n",
        "print(\"-------------------------------\")\n",
        "print(customer_trans_df.isnull().sum())\n",
        "print(\"-------------------------------\")\n",
        "print(item_df.isnull().sum())\n",
        "print(\"-------------------------------\")"
      ],
      "execution_count": 0,
      "outputs": [
        {
          "output_type": "stream",
          "text": [
            "id                   0\n",
            "campaign_id          0\n",
            "coupon_id            0\n",
            "customer_id          0\n",
            "redemption_status    0\n",
            "dtype: int64\n",
            "-------------------------------\n",
            "campaign_id       0\n",
            "campaign_type     0\n",
            "start_date        0\n",
            "end_date          0\n",
            "correction       23\n",
            "dtype: int64\n",
            "-------------------------------\n",
            "coupon_id    0\n",
            "item_id      0\n",
            "dtype: int64\n",
            "-------------------------------\n",
            "customer_id         0\n",
            "age_range           0\n",
            "marital_status    329\n",
            "rented              0\n",
            "family_size         0\n",
            "no_of_children    538\n",
            "income_bracket      0\n",
            "dtype: int64\n",
            "-------------------------------\n",
            "date               0\n",
            "customer_id        0\n",
            "item_id            0\n",
            "quantity           0\n",
            "selling_price      0\n",
            "other_discount     0\n",
            "coupon_discount    0\n",
            "dtype: int64\n",
            "-------------------------------\n",
            "item_id       0\n",
            "brand         0\n",
            "brand_type    0\n",
            "category      0\n",
            "dtype: int64\n",
            "-------------------------------\n"
          ],
          "name": "stdout"
        }
      ]
    },
    {
      "cell_type": "code",
      "metadata": {
        "id": "Xb47dZjt0Ztx",
        "colab_type": "code",
        "colab": {}
      },
      "source": [
        "customer_demo_df = customer_demo_df[['customer_id', 'age_range', 'rented', 'family_size','income_bracket']]"
      ],
      "execution_count": 0,
      "outputs": []
    },
    {
      "cell_type": "code",
      "metadata": {
        "id": "GWRHa31I0Zt4",
        "colab_type": "code",
        "colab": {}
      },
      "source": [
        "#train_df has all the numeric columns\n",
        "import datetime\n",
        "campaign_df_1 = campaign_df.copy()\n",
        "campaign_df_1['start_date'] = campaign_df_1['start_date'].apply(lambda x: datetime.datetime.strptime(x,\"%d/%m/%y\"))\n",
        "campaign_df_1['end_date'] = campaign_df_1['end_date'].apply(lambda x: datetime.datetime.strptime(x,\"%d/%m/%y\"))\n",
        "campaign_df_1['month'] = campaign_df_1['start_date'].dt.month\n"
      ],
      "execution_count": 0,
      "outputs": []
    },
    {
      "cell_type": "code",
      "metadata": {
        "id": "5-Ve0xHB0Zt-",
        "colab_type": "code",
        "colab": {}
      },
      "source": [
        "#check the campaign dataframe\n",
        "campaign_df.select_dtypes(exclude = [\"number\"])\n",
        "#it gives three col \"campaign_type\" ,\"start_date\",\"end_date\" are not numbers.\n",
        "\n",
        "#USING GETDUMMIES FUNCTION\n",
        "campaign_df_1 = pd.get_dummies(campaign_df_1,columns = ['campaign_type'])\n",
        "#df_with_dummies = pd.get_dummies( df, columns = cols_to_transform )\n",
        "\n",
        "#check the duration and month from the dates.\n",
        "campaign_df_1['total_days'] = campaign_df_1['end_date'].values - campaign_df_1['start_date'].values\n"
      ],
      "execution_count": 0,
      "outputs": []
    },
    {
      "cell_type": "code",
      "metadata": {
        "id": "IYLHLEtT0ZuG",
        "colab_type": "code",
        "colab": {}
      },
      "source": [
        "#Desired columns from campaign_df csv = ['month',campaign_type_X,campaign_type_Y,total_days]\n",
        "campaign_data_df = campaign_df_1.loc[:,[\"campaign_id\",'month','campaign_type_X','campaign_type_Y','total_days']]\n",
        "campaign_data_df['total_days'] = campaign_data_df['total_days'].dt.days\n",
        "campaign_data_df.to_csv(\"campaign_data_df.csv\")"
      ],
      "execution_count": 0,
      "outputs": []
    },
    {
      "cell_type": "code",
      "metadata": {
        "id": "VVII5Elu0ZuK",
        "colab_type": "code",
        "colab": {}
      },
      "source": [
        "#lets numalarise   coupon_item_mapping_data_path csv \n",
        "\n",
        "#nothing is there to convert."
      ],
      "execution_count": 0,
      "outputs": []
    },
    {
      "cell_type": "code",
      "metadata": {
        "id": "TeGmF81r0ZuR",
        "colab_type": "code",
        "colab": {}
      },
      "source": [
        "#lets numalarise customer_demographics_data_path csv\n",
        "customer_demo_df_1 = customer_demo_df.copy()\n",
        "list1 = ['customer_id', 'age_range', 'rented', 'family_size', 'income_bracket']\n",
        "list2 = ['age_range','rented','income_bracket']\n",
        "#rented is categorical \n",
        "#age range is categorical\n",
        "#income_bracket is categorical data \n",
        "#convert them to categorical variable.\n",
        "customer_demo_df_1 = pd.get_dummies(customer_demo_df_1, columns = list2)\n",
        "customer_demo_df_1.to_csv('customer_demo_df_1.csv')"
      ],
      "execution_count": 0,
      "outputs": []
    },
    {
      "cell_type": "code",
      "metadata": {
        "id": "wZDhC9Jz0ZuW",
        "colab_type": "code",
        "colab": {}
      },
      "source": [
        "#lets move to customer_transaction_data_path\n",
        "customer_transaction_data_path = \"data/train_AUpWtIz/customer_transaction_data.csv\"\n",
        "customer_trans_df = pd.read_csv(customer_transaction_data_path)\n",
        "#nothing to change here."
      ],
      "execution_count": 0,
      "outputs": []
    },
    {
      "cell_type": "code",
      "metadata": {
        "id": "GX8ZVhIq0Zuh",
        "colab_type": "code",
        "colab": {}
      },
      "source": [
        "#the last one is item_data_path\n",
        "item_data_path = \"data/train_AUpWtIz/item_data.csv\"\n",
        "item_df =  pd.read_csv(item_data_path)\n",
        "item_df_1 = item_df.loc[:,['item_id', 'brand_type', 'category']]\n",
        "list3 = ['brand_type', 'category']\n",
        "#convert above list to categorical variables.\n",
        "item_df_1 = pd.get_dummies(item_df_1, columns = list3)\n",
        "item_df_1.to_csv(\"item_df_1.csv\")"
      ],
      "execution_count": 0,
      "outputs": []
    },
    {
      "cell_type": "code",
      "metadata": {
        "id": "BwjbBHWJ0Zuu",
        "colab_type": "code",
        "outputId": "5ad42d4d-9438-4ea5-e417-3221471ea2a1",
        "colab": {
          "base_uri": "https://localhost:8080/",
          "height": 517
        }
      },
      "source": [
        "# lets group them together customer_demo_df and customer_trans_df\n",
        "#combine train and campaign type.\n",
        "#two dataframes are -\n",
        "import pandas as pd\n",
        "demogra_df = pd.read_csv('customer_demo_df_1.csv')\n",
        "c_trans_df = pd.read_csv('customer_transaction_data.csv')\n",
        "# df1 = c_trans_df.join(demogra_df, on = 'customer_id')\n",
        "#df1 = pd.merge(demogra_df,c_trans_df,on='customer_id',how = 'left')\n",
        "b = c_trans_df.set_index(\"customer_id\")\n",
        "df1 = demogra_df.join(b,lsuffix='L_',rsuffix='R_',on=\"customer_id\")\n",
        "del df1['Unnamed: 0']\n",
        "del df1['date']\n",
        "\n",
        "#df1.dropna(inplace=True)\n",
        "df1.isnull().sum()"
      ],
      "execution_count": 0,
      "outputs": [
        {
          "output_type": "execute_result",
          "data": {
            "text/plain": [
              "customer_id          0\n",
              "family_size          0\n",
              "age_range_18-25      0\n",
              "age_range_26-35      0\n",
              "age_range_36-45      0\n",
              "age_range_46-55      0\n",
              "age_range_56-70      0\n",
              "age_range_70+        0\n",
              "rented_0             0\n",
              "rented_1             0\n",
              "income_bracket_1     0\n",
              "income_bracket_2     0\n",
              "income_bracket_3     0\n",
              "income_bracket_4     0\n",
              "income_bracket_5     0\n",
              "income_bracket_6     0\n",
              "income_bracket_7     0\n",
              "income_bracket_8     0\n",
              "income_bracket_9     0\n",
              "income_bracket_10    0\n",
              "income_bracket_11    0\n",
              "income_bracket_12    0\n",
              "item_id              0\n",
              "quantity             0\n",
              "selling_price        0\n",
              "other_discount       0\n",
              "coupon_discount      0\n",
              "dtype: int64"
            ]
          },
          "metadata": {
            "tags": []
          },
          "execution_count": 12
        }
      ]
    },
    {
      "cell_type": "code",
      "metadata": {
        "id": "ztYRSr1z0Zuy",
        "colab_type": "code",
        "outputId": "0cc3b42a-f43c-4a77-d43a-075d28108587",
        "colab": {
          "base_uri": "https://localhost:8080/",
          "height": 196
        }
      },
      "source": [
        "#lets merge train data and campaign data\n",
        "t_df = pd.read_csv('train.csv')\n",
        "c_df = pd.read_csv('campaign_data_df.csv')\n",
        "b = c_df.set_index(\"campaign_id\")\n",
        "df2 = t_df.join(c_df, on = 'campaign_id',lsuffix='L', rsuffix='R')\n",
        "#df2 = pd.merge(c_df,t_df, on = 'campaign_id',how='right')\n",
        "del df2['Unnamed: 0']\n",
        "del df2['id']\n",
        "#df2['customer_id'].nunique() = 1428\n",
        "df2.dropna(inplace = True)\n",
        "df2.isnull().sum()"
      ],
      "execution_count": 0,
      "outputs": [
        {
          "output_type": "execute_result",
          "data": {
            "text/plain": [
              "campaign_idL         0\n",
              "coupon_id            0\n",
              "customer_id          0\n",
              "redemption_status    0\n",
              "campaign_idR         0\n",
              "month                0\n",
              "campaign_type_X      0\n",
              "campaign_type_Y      0\n",
              "total_days           0\n",
              "dtype: int64"
            ]
          },
          "metadata": {
            "tags": []
          },
          "execution_count": 14
        }
      ]
    },
    {
      "cell_type": "code",
      "metadata": {
        "scrolled": true,
        "id": "maWByY2v0Zu6",
        "colab_type": "code",
        "colab": {}
      },
      "source": [
        "#lets combine df1 and df2 on custmor id\n",
        "#df3 = pd.merge(df2,df1,how='left',on='customer_id')\n",
        "b = df1.set_index(\"customer_id\")\n",
        "df3 = df2.join(b,lsuffix= 'L_',rsuffix = \"R_\",on=\"customer_id\")\n",
        "df3.to_csv('df3.csv')"
      ],
      "execution_count": 0,
      "outputs": []
    },
    {
      "cell_type": "code",
      "metadata": {
        "id": "G_Xz57p00ZvA",
        "colab_type": "code",
        "outputId": "7135d82c-0538-4c51-d8f4-3e9cfcea3f42",
        "colab": {
          "base_uri": "https://localhost:8080/",
          "height": 214
        }
      },
      "source": [
        "df3.columns"
      ],
      "execution_count": 0,
      "outputs": [
        {
          "output_type": "execute_result",
          "data": {
            "text/plain": [
              "Index(['campaign_idL', 'coupon_id', 'customer_id', 'redemption_status',\n",
              "       'campaign_idR', 'month', 'campaign_type_X', 'campaign_type_Y',\n",
              "       'total_days', 'family_size', 'age_range_18-25', 'age_range_26-35',\n",
              "       'age_range_36-45', 'age_range_46-55', 'age_range_56-70',\n",
              "       'age_range_70+', 'rented_0', 'rented_1', 'income_bracket_1',\n",
              "       'income_bracket_2', 'income_bracket_3', 'income_bracket_4',\n",
              "       'income_bracket_5', 'income_bracket_6', 'income_bracket_7',\n",
              "       'income_bracket_8', 'income_bracket_9', 'income_bracket_10',\n",
              "       'income_bracket_11', 'income_bracket_12', 'item_id', 'quantity',\n",
              "       'selling_price', 'other_discount', 'coupon_discount'],\n",
              "      dtype='object')"
            ]
          },
          "metadata": {
            "tags": []
          },
          "execution_count": 10
        }
      ]
    },
    {
      "cell_type": "code",
      "metadata": {
        "id": "ZfooK0av-ct9",
        "colab_type": "code",
        "outputId": "b512edd6-5996-4e14-e9ac-ca4ff81e8583",
        "colab": {
          "base_uri": "https://localhost:8080/",
          "height": 214
        }
      },
      "source": [
        "del df3['campaign_idR']\n",
        "del df3['']\n",
        "\n",
        "df3.columns"
      ],
      "execution_count": 0,
      "outputs": [
        {
          "output_type": "execute_result",
          "data": {
            "text/plain": [
              "Index(['campaign_idL', 'coupon_id', 'customer_id', 'redemption_status',\n",
              "       'month', 'campaign_type_X', 'campaign_type_Y', 'total_days',\n",
              "       'family_size', 'age_range_18-25', 'age_range_26-35', 'age_range_36-45',\n",
              "       'age_range_46-55', 'age_range_56-70', 'age_range_70+', 'rented_0',\n",
              "       'rented_1', 'income_bracket_1', 'income_bracket_2', 'income_bracket_3',\n",
              "       'income_bracket_4', 'income_bracket_5', 'income_bracket_6',\n",
              "       'income_bracket_7', 'income_bracket_8', 'income_bracket_9',\n",
              "       'income_bracket_10', 'income_bracket_11', 'income_bracket_12',\n",
              "       'item_id', 'quantity', 'selling_price', 'other_discount',\n",
              "       'coupon_discount'],\n",
              "      dtype='object')"
            ]
          },
          "metadata": {
            "tags": []
          },
          "execution_count": 11
        }
      ]
    },
    {
      "cell_type": "code",
      "metadata": {
        "id": "ywqfeQ99NEM3",
        "colab_type": "code",
        "colab": {}
      },
      "source": [
        ""
      ],
      "execution_count": 0,
      "outputs": []
    },
    {
      "cell_type": "code",
      "metadata": {
        "id": "ZjQoN8qV_oV9",
        "colab_type": "code",
        "outputId": "601e294d-5295-4e4f-bb54-d7324188271e",
        "colab": {
          "base_uri": "https://localhost:8080/",
          "height": 91
        }
      },
      "source": [
        "import pandas as pd\n",
        "#lets create a new dataframe for item details\n",
        "a = pd.read_csv(\"df3.csv\")\n",
        "# b = pd.read_csv(\"item_df_1.csv\")\n",
        "# b.set_index(\"item_id\")\n",
        "# final_df = a.join(b,on=\"item_id\",lsuffix='L_',rsuffix='R_')\n",
        "# a.to_csv(\"final.csv\")\n",
        "# a.columns\n",
        "a.shape"
      ],
      "execution_count": 0,
      "outputs": [
        {
          "output_type": "stream",
          "text": [
            "/usr/local/lib/python3.6/dist-packages/IPython/core/interactiveshell.py:2718: DtypeWarning: Columns (10) have mixed types. Specify dtype option on import or set low_memory=False.\n",
            "  interactivity=interactivity, compiler=compiler, result=result)\n"
          ],
          "name": "stderr"
        },
        {
          "output_type": "execute_result",
          "data": {
            "text/plain": [
              "(16450725, 36)"
            ]
          },
          "metadata": {
            "tags": []
          },
          "execution_count": 1
        }
      ]
    },
    {
      "cell_type": "code",
      "metadata": {
        "id": "Ng4scsNDK8HJ",
        "colab_type": "code",
        "colab": {}
      },
      "source": [
        ""
      ],
      "execution_count": 0,
      "outputs": []
    }
  ]
}